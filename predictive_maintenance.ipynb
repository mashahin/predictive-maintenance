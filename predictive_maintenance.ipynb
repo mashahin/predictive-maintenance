{
 "cells": [
  {
   "cell_type": "markdown",
   "id": "94eec6c6",
   "metadata": {},
   "source": [
    "# Predictive Maintenance Solutions\n",
    " - Machines need periodic maintenance for optimal performance\n",
    " - Too frequent maintenance lead to additional costs\n",
    " - Lack of timely maintenance leads to unexpected breakdowns and loss of profit\n"
   ]
  },
  {
   "cell_type": "code",
   "execution_count": null,
   "id": "40123732",
   "metadata": {},
   "outputs": [],
   "source": [
    "import pandas as pd\n",
    "import matplotlib.pyplot as plt\n",
    "import seaborn as sns\n",
    "from sklearn.preprocessing import StandardScaler\n",
    "from sklearn.model_selection import train_test_split\n",
    "from sklearn.model_selection import cross_val_score\n",
    "from sklearn.metrics import classification_report, confusion_matrix, roc_curve, roc_auc_score\n",
    "from sklearn.linear_model import LogisticRegression\n",
    "from sklearn.tree import DecisionTreeClassifier\n",
    "from sklearn.ensemble import RandomForestClassifier\n",
    "from sklearn.ensemble import AdaBoostClassifier\n",
    "from sklearn.ensemble import GradientBoostingClassifier\n"
   ]
  },
  {
   "cell_type": "code",
   "execution_count": null,
   "id": "620f0ba3",
   "metadata": {},
   "outputs": [
    {
     "data": {
      "text/html": [
       "<div>\n",
       "<style scoped>\n",
       "    .dataframe tbody tr th:only-of-type {\n",
       "        vertical-align: middle;\n",
       "    }\n",
       "\n",
       "    .dataframe tbody tr th {\n",
       "        vertical-align: top;\n",
       "    }\n",
       "\n",
       "    .dataframe thead th {\n",
       "        text-align: right;\n",
       "    }\n",
       "</style>\n",
       "<table border=\"1\" class=\"dataframe\">\n",
       "  <thead>\n",
       "    <tr style=\"text-align: right;\">\n",
       "      <th></th>\n",
       "      <th>Product ID</th>\n",
       "      <th>Type</th>\n",
       "      <th>ATK</th>\n",
       "      <th>PTK</th>\n",
       "      <th>RPM</th>\n",
       "      <th>Torque</th>\n",
       "      <th>Wear</th>\n",
       "      <th>Failure</th>\n",
       "    </tr>\n",
       "    <tr>\n",
       "      <th>UDI</th>\n",
       "      <th></th>\n",
       "      <th></th>\n",
       "      <th></th>\n",
       "      <th></th>\n",
       "      <th></th>\n",
       "      <th></th>\n",
       "      <th></th>\n",
       "      <th></th>\n",
       "    </tr>\n",
       "  </thead>\n",
       "  <tbody>\n",
       "    <tr>\n",
       "      <th>1</th>\n",
       "      <td>M14860</td>\n",
       "      <td>M</td>\n",
       "      <td>298.1</td>\n",
       "      <td>308.6</td>\n",
       "      <td>1551</td>\n",
       "      <td>42.8</td>\n",
       "      <td>0</td>\n",
       "      <td>0</td>\n",
       "    </tr>\n",
       "    <tr>\n",
       "      <th>2</th>\n",
       "      <td>L47181</td>\n",
       "      <td>L</td>\n",
       "      <td>298.2</td>\n",
       "      <td>308.7</td>\n",
       "      <td>1408</td>\n",
       "      <td>46.3</td>\n",
       "      <td>3</td>\n",
       "      <td>0</td>\n",
       "    </tr>\n",
       "    <tr>\n",
       "      <th>3</th>\n",
       "      <td>L47182</td>\n",
       "      <td>L</td>\n",
       "      <td>298.1</td>\n",
       "      <td>308.5</td>\n",
       "      <td>1498</td>\n",
       "      <td>49.4</td>\n",
       "      <td>5</td>\n",
       "      <td>0</td>\n",
       "    </tr>\n",
       "    <tr>\n",
       "      <th>4</th>\n",
       "      <td>L47183</td>\n",
       "      <td>L</td>\n",
       "      <td>298.2</td>\n",
       "      <td>308.6</td>\n",
       "      <td>1433</td>\n",
       "      <td>39.5</td>\n",
       "      <td>7</td>\n",
       "      <td>0</td>\n",
       "    </tr>\n",
       "    <tr>\n",
       "      <th>5</th>\n",
       "      <td>L47184</td>\n",
       "      <td>L</td>\n",
       "      <td>298.2</td>\n",
       "      <td>308.7</td>\n",
       "      <td>1408</td>\n",
       "      <td>40.0</td>\n",
       "      <td>9</td>\n",
       "      <td>0</td>\n",
       "    </tr>\n",
       "  </tbody>\n",
       "</table>\n",
       "</div>"
      ],
      "text/plain": [
       "    Product ID Type    ATK    PTK   RPM  Torque  Wear  Failure\n",
       "UDI                                                           \n",
       "1       M14860    M  298.1  308.6  1551    42.8     0        0\n",
       "2       L47181    L  298.2  308.7  1408    46.3     3        0\n",
       "3       L47182    L  298.1  308.5  1498    49.4     5        0\n",
       "4       L47183    L  298.2  308.6  1433    39.5     7        0\n",
       "5       L47184    L  298.2  308.7  1408    40.0     9        0"
      ]
     },
     "execution_count": 2,
     "metadata": {},
     "output_type": "execute_result"
    }
   ],
   "source": [
    "df = pd.read_csv(\"data/dataset.csv\", index_col=\"UDI\")\n",
    "df.head()"
   ]
  },
  {
   "cell_type": "code",
   "execution_count": null,
   "id": "e19982e4",
   "metadata": {},
   "outputs": [
    {
     "data": {
      "text/html": [
       "<div>\n",
       "<style scoped>\n",
       "    .dataframe tbody tr th:only-of-type {\n",
       "        vertical-align: middle;\n",
       "    }\n",
       "\n",
       "    .dataframe tbody tr th {\n",
       "        vertical-align: top;\n",
       "    }\n",
       "\n",
       "    .dataframe thead th {\n",
       "        text-align: right;\n",
       "    }\n",
       "</style>\n",
       "<table border=\"1\" class=\"dataframe\">\n",
       "  <thead>\n",
       "    <tr style=\"text-align: right;\">\n",
       "      <th></th>\n",
       "      <th>count</th>\n",
       "      <th>mean</th>\n",
       "      <th>std</th>\n",
       "      <th>min</th>\n",
       "      <th>25%</th>\n",
       "      <th>50%</th>\n",
       "      <th>75%</th>\n",
       "      <th>max</th>\n",
       "    </tr>\n",
       "  </thead>\n",
       "  <tbody>\n",
       "    <tr>\n",
       "      <th>ATK</th>\n",
       "      <td>10000.0</td>\n",
       "      <td>300.00493</td>\n",
       "      <td>2.000259</td>\n",
       "      <td>295.3</td>\n",
       "      <td>298.3</td>\n",
       "      <td>300.1</td>\n",
       "      <td>301.5</td>\n",
       "      <td>304.5</td>\n",
       "    </tr>\n",
       "    <tr>\n",
       "      <th>PTK</th>\n",
       "      <td>10000.0</td>\n",
       "      <td>310.00556</td>\n",
       "      <td>1.483734</td>\n",
       "      <td>305.7</td>\n",
       "      <td>308.8</td>\n",
       "      <td>310.1</td>\n",
       "      <td>311.1</td>\n",
       "      <td>313.8</td>\n",
       "    </tr>\n",
       "    <tr>\n",
       "      <th>RPM</th>\n",
       "      <td>10000.0</td>\n",
       "      <td>1538.77610</td>\n",
       "      <td>179.284096</td>\n",
       "      <td>1168.0</td>\n",
       "      <td>1423.0</td>\n",
       "      <td>1503.0</td>\n",
       "      <td>1612.0</td>\n",
       "      <td>2886.0</td>\n",
       "    </tr>\n",
       "    <tr>\n",
       "      <th>Torque</th>\n",
       "      <td>10000.0</td>\n",
       "      <td>39.98691</td>\n",
       "      <td>9.968934</td>\n",
       "      <td>3.8</td>\n",
       "      <td>33.2</td>\n",
       "      <td>40.1</td>\n",
       "      <td>46.8</td>\n",
       "      <td>76.6</td>\n",
       "    </tr>\n",
       "    <tr>\n",
       "      <th>Wear</th>\n",
       "      <td>10000.0</td>\n",
       "      <td>107.95100</td>\n",
       "      <td>63.654147</td>\n",
       "      <td>0.0</td>\n",
       "      <td>53.0</td>\n",
       "      <td>108.0</td>\n",
       "      <td>162.0</td>\n",
       "      <td>253.0</td>\n",
       "    </tr>\n",
       "    <tr>\n",
       "      <th>Failure</th>\n",
       "      <td>10000.0</td>\n",
       "      <td>0.03390</td>\n",
       "      <td>0.180981</td>\n",
       "      <td>0.0</td>\n",
       "      <td>0.0</td>\n",
       "      <td>0.0</td>\n",
       "      <td>0.0</td>\n",
       "      <td>1.0</td>\n",
       "    </tr>\n",
       "  </tbody>\n",
       "</table>\n",
       "</div>"
      ],
      "text/plain": [
       "           count        mean         std     min     25%     50%     75%  \\\n",
       "ATK      10000.0   300.00493    2.000259   295.3   298.3   300.1   301.5   \n",
       "PTK      10000.0   310.00556    1.483734   305.7   308.8   310.1   311.1   \n",
       "RPM      10000.0  1538.77610  179.284096  1168.0  1423.0  1503.0  1612.0   \n",
       "Torque   10000.0    39.98691    9.968934     3.8    33.2    40.1    46.8   \n",
       "Wear     10000.0   107.95100   63.654147     0.0    53.0   108.0   162.0   \n",
       "Failure  10000.0     0.03390    0.180981     0.0     0.0     0.0     0.0   \n",
       "\n",
       "            max  \n",
       "ATK       304.5  \n",
       "PTK       313.8  \n",
       "RPM      2886.0  \n",
       "Torque     76.6  \n",
       "Wear      253.0  \n",
       "Failure     1.0  "
      ]
     },
     "execution_count": 3,
     "metadata": {},
     "output_type": "execute_result"
    }
   ],
   "source": [
    "df.describe().T"
   ]
  },
  {
   "cell_type": "code",
   "execution_count": null,
   "id": "6191d95e",
   "metadata": {},
   "outputs": [
    {
     "data": {
      "text/html": [
       "<div>\n",
       "<style scoped>\n",
       "    .dataframe tbody tr th:only-of-type {\n",
       "        vertical-align: middle;\n",
       "    }\n",
       "\n",
       "    .dataframe tbody tr th {\n",
       "        vertical-align: top;\n",
       "    }\n",
       "\n",
       "    .dataframe thead th {\n",
       "        text-align: right;\n",
       "    }\n",
       "</style>\n",
       "<table border=\"1\" class=\"dataframe\">\n",
       "  <thead>\n",
       "    <tr style=\"text-align: right;\">\n",
       "      <th></th>\n",
       "      <th>count</th>\n",
       "      <th>unique</th>\n",
       "      <th>top</th>\n",
       "      <th>freq</th>\n",
       "    </tr>\n",
       "  </thead>\n",
       "  <tbody>\n",
       "    <tr>\n",
       "      <th>Product ID</th>\n",
       "      <td>10000</td>\n",
       "      <td>10000</td>\n",
       "      <td>M14860</td>\n",
       "      <td>1</td>\n",
       "    </tr>\n",
       "    <tr>\n",
       "      <th>Type</th>\n",
       "      <td>10000</td>\n",
       "      <td>3</td>\n",
       "      <td>L</td>\n",
       "      <td>6000</td>\n",
       "    </tr>\n",
       "  </tbody>\n",
       "</table>\n",
       "</div>"
      ],
      "text/plain": [
       "            count unique     top  freq\n",
       "Product ID  10000  10000  M14860     1\n",
       "Type        10000      3       L  6000"
      ]
     },
     "execution_count": 4,
     "metadata": {},
     "output_type": "execute_result"
    }
   ],
   "source": [
    "df.describe(include=\"object\").T"
   ]
  },
  {
   "cell_type": "code",
   "execution_count": null,
   "id": "2863051e",
   "metadata": {},
   "outputs": [
    {
     "data": {
      "text/plain": [
       "0    9661\n",
       "1     339\n",
       "Name: Failure, dtype: int64"
      ]
     },
     "execution_count": 5,
     "metadata": {},
     "output_type": "execute_result"
    }
   ],
   "source": [
    "counts = df['Failure'].value_counts()\n",
    "counts"
   ]
  },
  {
   "cell_type": "code",
   "execution_count": null,
   "id": "65d068b0",
   "metadata": {
    "scrolled": true
   },
   "outputs": [
    {
     "data": {
      "text/plain": [
       "<matplotlib.axes._subplots.AxesSubplot at 0x20a6e190610>"
      ]
     },
     "execution_count": 6,
     "metadata": {},
     "output_type": "execute_result"
    },
    {
     "data": {
      "image/png": "[encoded data removed]",
      "text/plain": [
       "<Figure size 640x480 with 1 Axes>"
      ]
     },
     "metadata": {},
     "output_type": "display_data"
    }
   ],
   "source": [
    "# sns.set(rc={'figure.figsize':(3,3)})\n",
    "sns.countplot(data=df, x='Failure')"
   ]
  },
  {
   "cell_type": "code",
   "execution_count": null,
   "id": "05e9dc00",
   "metadata": {},
   "outputs": [
    {
     "data": {
      "text/plain": [
       "L    6000\n",
       "M    2997\n",
       "H    1003\n",
       "Name: Type, dtype: int64"
      ]
     },
     "execution_count": 7,
     "metadata": {},
     "output_type": "execute_result"
    }
   ],
   "source": [
    "df.Type.value_counts()"
   ]
  },
  {
   "cell_type": "code",
   "execution_count": null,
   "id": "2366b7bf",
   "metadata": {
    "scrolled": false
   },
   "outputs": [
    {
     "data": {
      "text/plain": [
       "<matplotlib.axes._subplots.AxesSubplot at 0x20a6ea4b160>"
      ]
     },
     "execution_count": 8,
     "metadata": {},
     "output_type": "execute_result"
    },
    {
     "data": {
      "image/png": "[encoded data removed]",
      "text/plain": [
       "<Figure size 1200x500 with 4 Axes>"
      ]
     },
     "metadata": {},
     "output_type": "display_data"
    }
   ],
   "source": [
    "fig, axes = plt.subplots(4, 1, figsize=(12, 5), sharex=True)\n",
    "fig.suptitle('Sensor Data Plots', fontsize=18)\n",
    "\n",
    "sns.lineplot(ax=axes[0], data=df[['ATK', 'PTK']])\n",
    "axes[0].set_ylabel(\"Kelvin\")\n",
    "sns.lineplot(ax=axes[1], data=df['RPM'])\n",
    "sns.lineplot(ax=axes[2], data=df['Torque'])\n",
    "sns.lineplot(ax=axes[3], data=df['Wear'])"
   ]
  },
  {
   "cell_type": "markdown",
   "id": "49f75dbe",
   "metadata": {},
   "source": [
    "## Outliers Detection"
   ]
  },
  {
   "cell_type": "code",
   "execution_count": null,
   "id": "7c18bbdf",
   "metadata": {},
   "outputs": [],
   "source": [
    "num_features = ['ATK', 'PTK', 'RPM', 'Torque', 'Wear']\n",
    "label = 'Failure'\n",
    "X = df[num_features]\n",
    "y = df[label]"
   ]
  },
  {
   "cell_type": "code",
   "execution_count": null,
   "id": "70e38d7e",
   "metadata": {},
   "outputs": [
    {
     "data": {
      "text/plain": [
       "<matplotlib.axes._subplots.AxesSubplot at 0x20a6fb55220>"
      ]
     },
     "execution_count": 10,
     "metadata": {},
     "output_type": "execute_result"
    },
    {
     "data": {
      "image/png": "[encoded data removed]",
      "text/plain": [
       "<Figure size 640x480 with 1 Axes>"
      ]
     },
     "metadata": {},
     "output_type": "display_data"
    }
   ],
   "source": [
    "sns.boxplot(X)"
   ]
  },
  {
   "cell_type": "code",
   "execution_count": null,
   "id": "fdc4903f",
   "metadata": {},
   "outputs": [
    {
     "data": {
      "text/plain": [
       "<matplotlib.axes._subplots.AxesSubplot at 0x20a70272160>"
      ]
     },
     "execution_count": 11,
     "metadata": {},
     "output_type": "execute_result"
    },
    {
     "data": {
      "image/png": "[encoded data removed]",
      "text/plain": [
       "<Figure size 800x300 with 2 Axes>"
      ]
     },
     "metadata": {},
     "output_type": "display_data"
    }
   ],
   "source": [
    "fig, axes = plt.subplots(1, 2, figsize=(8, 3))\n",
    "fig.suptitle('Outliers Detection', fontsize=16)\n",
    "\n",
    "sns.boxplot(ax=axes[0], y=X['RPM'])\n",
    "sns.boxplot(ax=axes[1], y=X['Torque'])"
   ]
  },
  {
   "cell_type": "code",
   "execution_count": null,
   "id": "61b3a07e",
   "metadata": {},
   "outputs": [
    {
     "data": {
      "text/html": [
       "<div>\n",
       "<style scoped>\n",
       "    .dataframe tbody tr th:only-of-type {\n",
       "        vertical-align: middle;\n",
       "    }\n",
       "\n",
       "    .dataframe tbody tr th {\n",
       "        vertical-align: top;\n",
       "    }\n",
       "\n",
       "    .dataframe thead th {\n",
       "        text-align: right;\n",
       "    }\n",
       "</style>\n",
       "<table border=\"1\" class=\"dataframe\">\n",
       "  <thead>\n",
       "    <tr style=\"text-align: right;\">\n",
       "      <th></th>\n",
       "      <th>count</th>\n",
       "      <th>mean</th>\n",
       "      <th>std</th>\n",
       "      <th>min</th>\n",
       "      <th>25%</th>\n",
       "      <th>50%</th>\n",
       "      <th>75%</th>\n",
       "      <th>max</th>\n",
       "    </tr>\n",
       "  </thead>\n",
       "  <tbody>\n",
       "    <tr>\n",
       "      <th>RPM</th>\n",
       "      <td>10000.0</td>\n",
       "      <td>1538.7761</td>\n",
       "      <td>179.284096</td>\n",
       "      <td>1168.0</td>\n",
       "      <td>1423.0</td>\n",
       "      <td>1503.0</td>\n",
       "      <td>1612.0</td>\n",
       "      <td>2886.0</td>\n",
       "    </tr>\n",
       "  </tbody>\n",
       "</table>\n",
       "</div>"
      ],
      "text/plain": [
       "       count       mean         std     min     25%     50%     75%     max\n",
       "RPM  10000.0  1538.7761  179.284096  1168.0  1423.0  1503.0  1612.0  2886.0"
      ]
     },
     "execution_count": 12,
     "metadata": {},
     "output_type": "execute_result"
    }
   ],
   "source": [
    "X[['RPM']].describe().T"
   ]
  },
  {
   "cell_type": "code",
   "execution_count": null,
   "id": "aab53366",
   "metadata": {},
   "outputs": [
    {
     "name": "stdout",
     "output_type": "stream",
     "text": [
      "418 (4.18%) Outliers\n",
      "Lower limit: 1139.5\n",
      "Upper limit: 1895.5\n"
     ]
    }
   ],
   "source": [
    "# outlier detection\n",
    "q1 = X['RPM'].quantile(0.25)\n",
    "q3 = X['RPM'].quantile(0.75)\n",
    "IQR = q3 - q1\n",
    "low = q1 - 1.5*IQR\n",
    "upp = q3 + 1.5*IQR\n",
    "\n",
    "outliers = (X['RPM'] <= low) + (X['RPM'] >= upp)\n",
    "n_outliers = len(X['RPM'][outliers])\n",
    "p_outliers = 100*n_outliers/len(X)\n",
    "\n",
    "print(f\"{n_outliers} ({p_outliers:3.2f}%) Outliers\")\n",
    "print(f\"Lower limit: {low}\")\n",
    "print(f\"Upper limit: {upp}\")"
   ]
  },
  {
   "cell_type": "code",
   "execution_count": null,
   "id": "84e06d57",
   "metadata": {},
   "outputs": [
    {
     "data": {
      "text/plain": [
       "UDI\n",
       "1        1551\n",
       "2        1408\n",
       "3        1498\n",
       "4        1433\n",
       "5        1408\n",
       "         ... \n",
       "9996     1604\n",
       "9997     1632\n",
       "9998     1645\n",
       "9999     1408\n",
       "10000    1500\n",
       "Name: RPM, Length: 9965, dtype: int64"
      ]
     },
     "execution_count": 14,
     "metadata": {},
     "output_type": "execute_result"
    }
   ],
   "source": [
    "# less than 5% outliers, so we will drop them keeping the failed instance\n",
    "outliers_low = df['RPM'] <= low\n",
    "outliers_upp = df['RPM'] >= upp\n",
    "\n",
    "df['RPM'][(outliers_low | outliers_upp & df['Failure']==0)]"
   ]
  },
  {
   "cell_type": "code",
   "execution_count": null,
   "id": "3e63b5cd",
   "metadata": {},
   "outputs": [
    {
     "data": {
      "text/plain": [
       "UDI\n",
       "1        1551\n",
       "2        1408\n",
       "3        1498\n",
       "4        1433\n",
       "5        1408\n",
       "         ... \n",
       "9996     1604\n",
       "9997     1632\n",
       "9998     1645\n",
       "9999     1408\n",
       "10000    1500\n",
       "Name: RPM, Length: 9617, dtype: int64"
      ]
     },
     "execution_count": 15,
     "metadata": {},
     "output_type": "execute_result"
    }
   ],
   "source": [
    "df['RPM'][~(outliers_low | outliers_upp) | df['Failure']==1]"
   ]
  },
  {
   "cell_type": "code",
   "execution_count": null,
   "id": "b7ec6494",
   "metadata": {},
   "outputs": [
    {
     "data": {
      "text/html": [
       "<div>\n",
       "<style scoped>\n",
       "    .dataframe tbody tr th:only-of-type {\n",
       "        vertical-align: middle;\n",
       "    }\n",
       "\n",
       "    .dataframe tbody tr th {\n",
       "        vertical-align: top;\n",
       "    }\n",
       "\n",
       "    .dataframe thead th {\n",
       "        text-align: right;\n",
       "    }\n",
       "</style>\n",
       "<table border=\"1\" class=\"dataframe\">\n",
       "  <thead>\n",
       "    <tr style=\"text-align: right;\">\n",
       "      <th></th>\n",
       "      <th>Product ID</th>\n",
       "      <th>Type</th>\n",
       "      <th>ATK</th>\n",
       "      <th>PTK</th>\n",
       "      <th>RPM</th>\n",
       "      <th>Torque</th>\n",
       "      <th>Wear</th>\n",
       "      <th>Failure</th>\n",
       "    </tr>\n",
       "    <tr>\n",
       "      <th>UDI</th>\n",
       "      <th></th>\n",
       "      <th></th>\n",
       "      <th></th>\n",
       "      <th></th>\n",
       "      <th></th>\n",
       "      <th></th>\n",
       "      <th></th>\n",
       "      <th></th>\n",
       "    </tr>\n",
       "  </thead>\n",
       "  <tbody>\n",
       "    <tr>\n",
       "      <th>1</th>\n",
       "      <td>M14860</td>\n",
       "      <td>M</td>\n",
       "      <td>298.1</td>\n",
       "      <td>308.6</td>\n",
       "      <td>1551</td>\n",
       "      <td>42.8</td>\n",
       "      <td>0</td>\n",
       "      <td>0</td>\n",
       "    </tr>\n",
       "    <tr>\n",
       "      <th>2</th>\n",
       "      <td>L47181</td>\n",
       "      <td>L</td>\n",
       "      <td>298.2</td>\n",
       "      <td>308.7</td>\n",
       "      <td>1408</td>\n",
       "      <td>46.3</td>\n",
       "      <td>3</td>\n",
       "      <td>0</td>\n",
       "    </tr>\n",
       "    <tr>\n",
       "      <th>3</th>\n",
       "      <td>L47182</td>\n",
       "      <td>L</td>\n",
       "      <td>298.1</td>\n",
       "      <td>308.5</td>\n",
       "      <td>1498</td>\n",
       "      <td>49.4</td>\n",
       "      <td>5</td>\n",
       "      <td>0</td>\n",
       "    </tr>\n",
       "    <tr>\n",
       "      <th>4</th>\n",
       "      <td>L47183</td>\n",
       "      <td>L</td>\n",
       "      <td>298.2</td>\n",
       "      <td>308.6</td>\n",
       "      <td>1433</td>\n",
       "      <td>39.5</td>\n",
       "      <td>7</td>\n",
       "      <td>0</td>\n",
       "    </tr>\n",
       "    <tr>\n",
       "      <th>5</th>\n",
       "      <td>L47184</td>\n",
       "      <td>L</td>\n",
       "      <td>298.2</td>\n",
       "      <td>308.7</td>\n",
       "      <td>1408</td>\n",
       "      <td>40.0</td>\n",
       "      <td>9</td>\n",
       "      <td>0</td>\n",
       "    </tr>\n",
       "    <tr>\n",
       "      <th>...</th>\n",
       "      <td>...</td>\n",
       "      <td>...</td>\n",
       "      <td>...</td>\n",
       "      <td>...</td>\n",
       "      <td>...</td>\n",
       "      <td>...</td>\n",
       "      <td>...</td>\n",
       "      <td>...</td>\n",
       "    </tr>\n",
       "    <tr>\n",
       "      <th>9996</th>\n",
       "      <td>M24855</td>\n",
       "      <td>M</td>\n",
       "      <td>298.8</td>\n",
       "      <td>308.4</td>\n",
       "      <td>1604</td>\n",
       "      <td>29.5</td>\n",
       "      <td>14</td>\n",
       "      <td>0</td>\n",
       "    </tr>\n",
       "    <tr>\n",
       "      <th>9997</th>\n",
       "      <td>H39410</td>\n",
       "      <td>H</td>\n",
       "      <td>298.9</td>\n",
       "      <td>308.4</td>\n",
       "      <td>1632</td>\n",
       "      <td>31.8</td>\n",
       "      <td>17</td>\n",
       "      <td>0</td>\n",
       "    </tr>\n",
       "    <tr>\n",
       "      <th>9998</th>\n",
       "      <td>M24857</td>\n",
       "      <td>M</td>\n",
       "      <td>299.0</td>\n",
       "      <td>308.6</td>\n",
       "      <td>1645</td>\n",
       "      <td>33.4</td>\n",
       "      <td>22</td>\n",
       "      <td>0</td>\n",
       "    </tr>\n",
       "    <tr>\n",
       "      <th>9999</th>\n",
       "      <td>H39412</td>\n",
       "      <td>H</td>\n",
       "      <td>299.0</td>\n",
       "      <td>308.7</td>\n",
       "      <td>1408</td>\n",
       "      <td>48.5</td>\n",
       "      <td>25</td>\n",
       "      <td>0</td>\n",
       "    </tr>\n",
       "    <tr>\n",
       "      <th>10000</th>\n",
       "      <td>M24859</td>\n",
       "      <td>M</td>\n",
       "      <td>299.0</td>\n",
       "      <td>308.7</td>\n",
       "      <td>1500</td>\n",
       "      <td>40.2</td>\n",
       "      <td>30</td>\n",
       "      <td>0</td>\n",
       "    </tr>\n",
       "  </tbody>\n",
       "</table>\n",
       "<p>10000 rows × 8 columns</p>\n",
       "</div>"
      ],
      "text/plain": [
       "      Product ID Type    ATK    PTK   RPM  Torque  Wear  Failure\n",
       "UDI                                                             \n",
       "1         M14860    M  298.1  308.6  1551    42.8     0        0\n",
       "2         L47181    L  298.2  308.7  1408    46.3     3        0\n",
       "3         L47182    L  298.1  308.5  1498    49.4     5        0\n",
       "4         L47183    L  298.2  308.6  1433    39.5     7        0\n",
       "5         L47184    L  298.2  308.7  1408    40.0     9        0\n",
       "...          ...  ...    ...    ...   ...     ...   ...      ...\n",
       "9996      M24855    M  298.8  308.4  1604    29.5    14        0\n",
       "9997      H39410    H  298.9  308.4  1632    31.8    17        0\n",
       "9998      M24857    M  299.0  308.6  1645    33.4    22        0\n",
       "9999      H39412    H  299.0  308.7  1408    48.5    25        0\n",
       "10000     M24859    M  299.0  308.7  1500    40.2    30        0\n",
       "\n",
       "[10000 rows x 8 columns]"
      ]
     },
     "execution_count": 16,
     "metadata": {},
     "output_type": "execute_result"
    }
   ],
   "source": [
    "df"
   ]
  },
  {
   "cell_type": "code",
   "execution_count": null,
   "id": "744871e9",
   "metadata": {},
   "outputs": [
    {
     "data": {
      "text/html": [
       "<div>\n",
       "<style scoped>\n",
       "    .dataframe tbody tr th:only-of-type {\n",
       "        vertical-align: middle;\n",
       "    }\n",
       "\n",
       "    .dataframe tbody tr th {\n",
       "        vertical-align: top;\n",
       "    }\n",
       "\n",
       "    .dataframe thead th {\n",
       "        text-align: right;\n",
       "    }\n",
       "</style>\n",
       "<table border=\"1\" class=\"dataframe\">\n",
       "  <thead>\n",
       "    <tr style=\"text-align: right;\">\n",
       "      <th></th>\n",
       "      <th>Product ID</th>\n",
       "      <th>Type</th>\n",
       "      <th>ATK</th>\n",
       "      <th>PTK</th>\n",
       "      <th>RPM</th>\n",
       "      <th>Torque</th>\n",
       "      <th>Wear</th>\n",
       "      <th>Failure</th>\n",
       "    </tr>\n",
       "    <tr>\n",
       "      <th>UDI</th>\n",
       "      <th></th>\n",
       "      <th></th>\n",
       "      <th></th>\n",
       "      <th></th>\n",
       "      <th></th>\n",
       "      <th></th>\n",
       "      <th></th>\n",
       "      <th></th>\n",
       "    </tr>\n",
       "  </thead>\n",
       "  <tbody>\n",
       "    <tr>\n",
       "      <th>1</th>\n",
       "      <td>M14860</td>\n",
       "      <td>M</td>\n",
       "      <td>298.1</td>\n",
       "      <td>308.6</td>\n",
       "      <td>1551</td>\n",
       "      <td>42.8</td>\n",
       "      <td>0</td>\n",
       "      <td>0</td>\n",
       "    </tr>\n",
       "    <tr>\n",
       "      <th>2</th>\n",
       "      <td>L47181</td>\n",
       "      <td>L</td>\n",
       "      <td>298.2</td>\n",
       "      <td>308.7</td>\n",
       "      <td>1408</td>\n",
       "      <td>46.3</td>\n",
       "      <td>3</td>\n",
       "      <td>0</td>\n",
       "    </tr>\n",
       "    <tr>\n",
       "      <th>3</th>\n",
       "      <td>L47182</td>\n",
       "      <td>L</td>\n",
       "      <td>298.1</td>\n",
       "      <td>308.5</td>\n",
       "      <td>1498</td>\n",
       "      <td>49.4</td>\n",
       "      <td>5</td>\n",
       "      <td>0</td>\n",
       "    </tr>\n",
       "    <tr>\n",
       "      <th>4</th>\n",
       "      <td>L47183</td>\n",
       "      <td>L</td>\n",
       "      <td>298.2</td>\n",
       "      <td>308.6</td>\n",
       "      <td>1433</td>\n",
       "      <td>39.5</td>\n",
       "      <td>7</td>\n",
       "      <td>0</td>\n",
       "    </tr>\n",
       "    <tr>\n",
       "      <th>5</th>\n",
       "      <td>L47184</td>\n",
       "      <td>L</td>\n",
       "      <td>298.2</td>\n",
       "      <td>308.7</td>\n",
       "      <td>1408</td>\n",
       "      <td>40.0</td>\n",
       "      <td>9</td>\n",
       "      <td>0</td>\n",
       "    </tr>\n",
       "    <tr>\n",
       "      <th>...</th>\n",
       "      <td>...</td>\n",
       "      <td>...</td>\n",
       "      <td>...</td>\n",
       "      <td>...</td>\n",
       "      <td>...</td>\n",
       "      <td>...</td>\n",
       "      <td>...</td>\n",
       "      <td>...</td>\n",
       "    </tr>\n",
       "    <tr>\n",
       "      <th>9996</th>\n",
       "      <td>M24855</td>\n",
       "      <td>M</td>\n",
       "      <td>298.8</td>\n",
       "      <td>308.4</td>\n",
       "      <td>1604</td>\n",
       "      <td>29.5</td>\n",
       "      <td>14</td>\n",
       "      <td>0</td>\n",
       "    </tr>\n",
       "    <tr>\n",
       "      <th>9997</th>\n",
       "      <td>H39410</td>\n",
       "      <td>H</td>\n",
       "      <td>298.9</td>\n",
       "      <td>308.4</td>\n",
       "      <td>1632</td>\n",
       "      <td>31.8</td>\n",
       "      <td>17</td>\n",
       "      <td>0</td>\n",
       "    </tr>\n",
       "    <tr>\n",
       "      <th>9998</th>\n",
       "      <td>M24857</td>\n",
       "      <td>M</td>\n",
       "      <td>299.0</td>\n",
       "      <td>308.6</td>\n",
       "      <td>1645</td>\n",
       "      <td>33.4</td>\n",
       "      <td>22</td>\n",
       "      <td>0</td>\n",
       "    </tr>\n",
       "    <tr>\n",
       "      <th>9999</th>\n",
       "      <td>H39412</td>\n",
       "      <td>H</td>\n",
       "      <td>299.0</td>\n",
       "      <td>308.7</td>\n",
       "      <td>1408</td>\n",
       "      <td>48.5</td>\n",
       "      <td>25</td>\n",
       "      <td>0</td>\n",
       "    </tr>\n",
       "    <tr>\n",
       "      <th>10000</th>\n",
       "      <td>M24859</td>\n",
       "      <td>M</td>\n",
       "      <td>299.0</td>\n",
       "      <td>308.7</td>\n",
       "      <td>1500</td>\n",
       "      <td>40.2</td>\n",
       "      <td>30</td>\n",
       "      <td>0</td>\n",
       "    </tr>\n",
       "  </tbody>\n",
       "</table>\n",
       "<p>9617 rows × 8 columns</p>\n",
       "</div>"
      ],
      "text/plain": [
       "      Product ID Type    ATK    PTK   RPM  Torque  Wear  Failure\n",
       "UDI                                                             \n",
       "1         M14860    M  298.1  308.6  1551    42.8     0        0\n",
       "2         L47181    L  298.2  308.7  1408    46.3     3        0\n",
       "3         L47182    L  298.1  308.5  1498    49.4     5        0\n",
       "4         L47183    L  298.2  308.6  1433    39.5     7        0\n",
       "5         L47184    L  298.2  308.7  1408    40.0     9        0\n",
       "...          ...  ...    ...    ...   ...     ...   ...      ...\n",
       "9996      M24855    M  298.8  308.4  1604    29.5    14        0\n",
       "9997      H39410    H  298.9  308.4  1632    31.8    17        0\n",
       "9998      M24857    M  299.0  308.6  1645    33.4    22        0\n",
       "9999      H39412    H  299.0  308.7  1408    48.5    25        0\n",
       "10000     M24859    M  299.0  308.7  1500    40.2    30        0\n",
       "\n",
       "[9617 rows x 8 columns]"
      ]
     },
     "execution_count": 17,
     "metadata": {},
     "output_type": "execute_result"
    }
   ],
   "source": [
    "df = df[~(outliers_low | outliers_upp) | df['Failure']==1]\n",
    "df"
   ]
  },
  {
   "cell_type": "code",
   "execution_count": null,
   "id": "ab48ccca",
   "metadata": {},
   "outputs": [
    {
     "data": {
      "text/plain": [
       "<matplotlib.axes._subplots.AxesSubplot at 0x20a702ea880>"
      ]
     },
     "execution_count": 18,
     "metadata": {},
     "output_type": "execute_result"
    },
    {
     "data": {
      "image/png": "[encoded data removed]",
      "text/plain": [
       "<Figure size 640x480 with 1 Axes>"
      ]
     },
     "metadata": {},
     "output_type": "display_data"
    }
   ],
   "source": [
    "sns.boxplot(x=df['RPM'])\n"
   ]
  },
  {
   "cell_type": "code",
   "execution_count": null,
   "id": "8d253f4e",
   "metadata": {},
   "outputs": [
    {
     "name": "stderr",
     "output_type": "stream",
     "text": [
      "C:\\Users\\DAD\\AppData\\Local\\Temp\\ipykernel_12336\\4223722467.py:1: UserWarning: \n",
      "\n",
      "`distplot` is a deprecated function and will be removed in seaborn v0.14.0.\n",
      "\n",
      "Please adapt your code to use either `displot` (a figure-level function with\n",
      "similar flexibility) or `histplot` (an axes-level function for histograms).\n",
      "\n",
      "For a guide to updating your code to use the new functions, please see\n",
      "https://gist.github.com/mwaskom/de44147ed2974457ad6372750bbe5751\n",
      "\n",
      "  sns.distplot(x=df['RPM'])\n"
     ]
    },
    {
     "data": {
      "text/plain": [
       "<matplotlib.axes._subplots.AxesSubplot at 0x20a702f2d00>"
      ]
     },
     "execution_count": 19,
     "metadata": {},
     "output_type": "execute_result"
    },
    {
     "data": {
      "image/png": "[encoded data removed]",
      "text/plain": [
       "<Figure size 640x480 with 1 Axes>"
      ]
     },
     "metadata": {},
     "output_type": "display_data"
    }
   ],
   "source": [
    "sns.distplot(x=df['RPM'])"
   ]
  },
  {
   "cell_type": "code",
   "execution_count": null,
   "id": "787480bd",
   "metadata": {},
   "outputs": [
    {
     "name": "stdout",
     "output_type": "stream",
     "text": [
      "[(9617, 5), (9617,)]\n"
     ]
    },
    {
     "data": {
      "text/plain": [
       "0    9278\n",
       "1     339\n",
       "Name: Failure, dtype: int64"
      ]
     },
     "execution_count": 20,
     "metadata": {},
     "output_type": "execute_result"
    }
   ],
   "source": [
    "num_features = ['ATK', 'PTK', 'RPM', 'Torque', 'Wear']\n",
    "label = 'Failure'\n",
    "X = df[num_features]\n",
    "y = df[label]\n",
    "print([X.shape, y.shape])\n",
    "y.value_counts()"
   ]
  },
  {
   "cell_type": "markdown",
   "id": "f408846a",
   "metadata": {},
   "source": [
    "## Features Covaiance / Correlation"
   ]
  },
  {
   "cell_type": "code",
   "execution_count": null,
   "id": "f6e0830c",
   "metadata": {},
   "outputs": [],
   "source": [
    "#sns.pairplot(X)\n",
    "#plt.show()"
   ]
  },
  {
   "cell_type": "code",
   "execution_count": null,
   "id": "4f2f8323",
   "metadata": {
    "scrolled": false
   },
   "outputs": [
    {
     "name": "stderr",
     "output_type": "stream",
     "text": [
      "C:\\Users\\DAD\\AppData\\Local\\Temp\\ipykernel_12336\\3858386629.py:2: FutureWarning: this method is deprecated in favour of `Styler.format(precision=..)`\n",
      "  corr.style.background_gradient(cmap='coolwarm').set_precision(3)\n"
     ]
    },
    {
     "data": {
      "text/html": [
       "<style type=\"text/css\">\n",
       "#T_9f081_row0_col0, #T_9f081_row1_col1, #T_9f081_row2_col2, #T_9f081_row3_col3, #T_9f081_row4_col4 {\n",
       "  background-color: #b40426;\n",
       "  color: #f1f1f1;\n",
       "}\n",
       "#T_9f081_row0_col1, #T_9f081_row1_col0 {\n",
       "  background-color: #dd5f4b;\n",
       "  color: #f1f1f1;\n",
       "}\n",
       "#T_9f081_row0_col2, #T_9f081_row1_col2 {\n",
       "  background-color: #d5dbe5;\n",
       "  color: #000000;\n",
       "}\n",
       "#T_9f081_row0_col3, #T_9f081_row4_col3 {\n",
       "  background-color: #d3dbe7;\n",
       "  color: #000000;\n",
       "}\n",
       "#T_9f081_row0_col4, #T_9f081_row1_col4, #T_9f081_row4_col0 {\n",
       "  background-color: #4055c8;\n",
       "  color: #f1f1f1;\n",
       "}\n",
       "#T_9f081_row1_col3 {\n",
       "  background-color: #d2dbe8;\n",
       "  color: #000000;\n",
       "}\n",
       "#T_9f081_row2_col0 {\n",
       "  background-color: #3f53c6;\n",
       "  color: #f1f1f1;\n",
       "}\n",
       "#T_9f081_row2_col1, #T_9f081_row4_col1 {\n",
       "  background-color: #4257c9;\n",
       "  color: #f1f1f1;\n",
       "}\n",
       "#T_9f081_row2_col3, #T_9f081_row3_col0, #T_9f081_row3_col1, #T_9f081_row3_col2, #T_9f081_row3_col4 {\n",
       "  background-color: #3b4cc0;\n",
       "  color: #f1f1f1;\n",
       "}\n",
       "#T_9f081_row2_col4 {\n",
       "  background-color: #3d50c3;\n",
       "  color: #f1f1f1;\n",
       "}\n",
       "#T_9f081_row4_col2 {\n",
       "  background-color: #d4dbe6;\n",
       "  color: #000000;\n",
       "}\n",
       "</style>\n",
       "<table id=\"T_9f081\">\n",
       "  <thead>\n",
       "    <tr>\n",
       "      <th class=\"blank level0\" >&nbsp;</th>\n",
       "      <th id=\"T_9f081_level0_col0\" class=\"col_heading level0 col0\" >ATK</th>\n",
       "      <th id=\"T_9f081_level0_col1\" class=\"col_heading level0 col1\" >PTK</th>\n",
       "      <th id=\"T_9f081_level0_col2\" class=\"col_heading level0 col2\" >RPM</th>\n",
       "      <th id=\"T_9f081_level0_col3\" class=\"col_heading level0 col3\" >Torque</th>\n",
       "      <th id=\"T_9f081_level0_col4\" class=\"col_heading level0 col4\" >Wear</th>\n",
       "    </tr>\n",
       "  </thead>\n",
       "  <tbody>\n",
       "    <tr>\n",
       "      <th id=\"T_9f081_level0_row0\" class=\"row_heading level0 row0\" >ATK</th>\n",
       "      <td id=\"T_9f081_row0_col0\" class=\"data row0 col0\" >1.000</td>\n",
       "      <td id=\"T_9f081_row0_col1\" class=\"data row0 col1\" >0.876</td>\n",
       "      <td id=\"T_9f081_row0_col2\" class=\"data row0 col2\" >0.013</td>\n",
       "      <td id=\"T_9f081_row0_col3\" class=\"data row0 col3\" >-0.005</td>\n",
       "      <td id=\"T_9f081_row0_col4\" class=\"data row0 col4\" >0.015</td>\n",
       "    </tr>\n",
       "    <tr>\n",
       "      <th id=\"T_9f081_level0_row1\" class=\"row_heading level0 row1\" >PTK</th>\n",
       "      <td id=\"T_9f081_row1_col0\" class=\"data row1 col0\" >0.876</td>\n",
       "      <td id=\"T_9f081_row1_col1\" class=\"data row1 col1\" >1.000</td>\n",
       "      <td id=\"T_9f081_row1_col2\" class=\"data row1 col2\" >0.014</td>\n",
       "      <td id=\"T_9f081_row1_col3\" class=\"data row1 col3\" >-0.010</td>\n",
       "      <td id=\"T_9f081_row1_col4\" class=\"data row1 col4\" >0.015</td>\n",
       "    </tr>\n",
       "    <tr>\n",
       "      <th id=\"T_9f081_level0_row2\" class=\"row_heading level0 row2\" >RPM</th>\n",
       "      <td id=\"T_9f081_row2_col0\" class=\"data row2 col0\" >0.013</td>\n",
       "      <td id=\"T_9f081_row2_col1\" class=\"data row2 col1\" >0.014</td>\n",
       "      <td id=\"T_9f081_row2_col2\" class=\"data row2 col2\" >1.000</td>\n",
       "      <td id=\"T_9f081_row2_col3\" class=\"data row2 col3\" >-0.867</td>\n",
       "      <td id=\"T_9f081_row2_col4\" class=\"data row2 col4\" >0.004</td>\n",
       "    </tr>\n",
       "    <tr>\n",
       "      <th id=\"T_9f081_level0_row3\" class=\"row_heading level0 row3\" >Torque</th>\n",
       "      <td id=\"T_9f081_row3_col0\" class=\"data row3 col0\" >-0.005</td>\n",
       "      <td id=\"T_9f081_row3_col1\" class=\"data row3 col1\" >-0.010</td>\n",
       "      <td id=\"T_9f081_row3_col2\" class=\"data row3 col2\" >-0.867</td>\n",
       "      <td id=\"T_9f081_row3_col3\" class=\"data row3 col3\" >1.000</td>\n",
       "      <td id=\"T_9f081_row3_col4\" class=\"data row3 col4\" >-0.006</td>\n",
       "    </tr>\n",
       "    <tr>\n",
       "      <th id=\"T_9f081_level0_row4\" class=\"row_heading level0 row4\" >Wear</th>\n",
       "      <td id=\"T_9f081_row4_col0\" class=\"data row4 col0\" >0.015</td>\n",
       "      <td id=\"T_9f081_row4_col1\" class=\"data row4 col1\" >0.015</td>\n",
       "      <td id=\"T_9f081_row4_col2\" class=\"data row4 col2\" >0.004</td>\n",
       "      <td id=\"T_9f081_row4_col3\" class=\"data row4 col3\" >-0.006</td>\n",
       "      <td id=\"T_9f081_row4_col4\" class=\"data row4 col4\" >1.000</td>\n",
       "    </tr>\n",
       "  </tbody>\n",
       "</table>\n"
      ],
      "text/plain": [
       "<pandas.io.formats.style.Styler at 0x20a702ea7c0>"
      ]
     },
     "execution_count": 22,
     "metadata": {},
     "output_type": "execute_result"
    }
   ],
   "source": [
    "corr = X.corr()\n",
    "corr.style.background_gradient(cmap='coolwarm').set_precision(3)"
   ]
  },
  {
   "cell_type": "markdown",
   "id": "205a1721",
   "metadata": {},
   "source": [
    "## Classification with different algorithms"
   ]
  },
  {
   "cell_type": "code",
   "execution_count": null,
   "id": "2689037f",
   "metadata": {},
   "outputs": [],
   "source": [
    "X_train, X_test, y_train, y_test = train_test_split(X, y, random_state=0, stratify=y)\n",
    "scaler = StandardScaler()\n",
    "X_train_transformed = scaler.fit_transform(X_train)\n",
    "X_test_transformed = scaler.transform(X_test)"
   ]
  },
  {
   "cell_type": "code",
   "execution_count": null,
   "id": "d023e6d9",
   "metadata": {},
   "outputs": [
    {
     "data": {
      "text/plain": [
       "(7212,)"
      ]
     },
     "execution_count": 24,
     "metadata": {},
     "output_type": "execute_result"
    }
   ],
   "source": [
    "y_train.shape"
   ]
  },
  {
   "cell_type": "code",
   "execution_count": null,
   "id": "5ed9e690",
   "metadata": {},
   "outputs": [
    {
     "data": {
      "text/plain": [
       "Text(0.5, 1.0, 'Test dataset')"
      ]
     },
     "execution_count": 25,
     "metadata": {},
     "output_type": "execute_result"
    },
    {
     "data": {
      "image/png": "[encoded data removed]",
      "text/plain": [
       "<Figure size 1000x300 with 2 Axes>"
      ]
     },
     "metadata": {},
     "output_type": "display_data"
    }
   ],
   "source": [
    "fig, axes = plt.subplots(1, 2, figsize=(10, 3))\n",
    "fig.suptitle('Class Distribution', fontsize=16)\n",
    "\n",
    "sns.countplot(ax=axes[0], x=y_train)\n",
    "axes[0].set_title(\"Train dataset\")\n",
    "\n",
    "sns.countplot(ax=axes[1], x=y_test)\n",
    "axes[1].set_title(\"Test dataset\")"
   ]
  },
  {
   "cell_type": "code",
   "execution_count": null,
   "id": "f2a5dc28",
   "metadata": {},
   "outputs": [
    {
     "name": "stdout",
     "output_type": "stream",
     "text": [
      "              precision    recall  f1-score   support\n",
      "\n",
      "     class 0       0.97      1.00      0.98      2320\n",
      "     class 1       0.77      0.24      0.36        85\n",
      "\n",
      "    accuracy                           0.97      2405\n",
      "   macro avg       0.87      0.62      0.67      2405\n",
      "weighted avg       0.97      0.97      0.96      2405\n",
      "\n",
      "[[2314    6]\n",
      " [  65   20]]\n",
      "Area Under Curve: 0.6163539553752536\n"
     ]
    }
   ],
   "source": [
    "# Logistic Regression Classifier\n",
    "\n",
    "# logreg = LogisticRegression(C=1e5, random_state=0)\n",
    "logreg = LogisticRegression(random_state=0)\n",
    "logreg.fit(X_train_transformed, y_train)\n",
    "y_pred = logreg.predict(X_test_transformed)\n",
    "target_names = ['class 0', 'class 1']\n",
    "print(classification_report(y_test, y_pred, target_names=target_names))\n",
    "print(confusion_matrix(y_test, y_pred))\n",
    "print(f'Area Under Curve: {roc_auc_score(y_test, y_pred)}')\n",
    "# print(\"Accuracy: %5.4f\" % (cross_val_score(logreg, X, y, cv=10).mean()))\n",
    "# logreg"
   ]
  },
  {
   "cell_type": "code",
   "execution_count": null,
   "id": "4105fc26",
   "metadata": {},
   "outputs": [
    {
     "name": "stdout",
     "output_type": "stream",
     "text": [
      "              precision    recall  f1-score   support\n",
      "\n",
      "     class 0       0.99      0.99      0.99      2320\n",
      "     class 1       0.69      0.65      0.67        85\n",
      "\n",
      "    accuracy                           0.98      2405\n",
      "   macro avg       0.84      0.82      0.83      2405\n",
      "weighted avg       0.98      0.98      0.98      2405\n",
      "\n",
      "[[2295   25]\n",
      " [  30   55]]\n",
      "Area Under Curve: 0.8181414807302231\n"
     ]
    }
   ],
   "source": [
    "# Decision Tree Classifier\n",
    "\n",
    "dt = DecisionTreeClassifier(random_state=0)\n",
    "dt.fit(X_train_transformed, y_train)\n",
    "y_pred = dt.predict(X_test_transformed)\n",
    "target_names = ['class 0', 'class 1']\n",
    "print(classification_report(y_test, y_pred, target_names=target_names))\n",
    "print(confusion_matrix(y_test, y_pred))\n",
    "print(f'Area Under Curve: {roc_auc_score(y_test, y_pred)}')\n",
    "# print(\"Accuracy: %5.4f\" % (cross_val_score(dt, X, y, cv=10).mean()))\n",
    "# dt"
   ]
  },
  {
   "cell_type": "code",
   "execution_count": null,
   "id": "a6517f22",
   "metadata": {},
   "outputs": [
    {
     "name": "stdout",
     "output_type": "stream",
     "text": [
      "              precision    recall  f1-score   support\n",
      "\n",
      "     class 0       0.99      1.00      0.99      2320\n",
      "     class 1       0.90      0.61      0.73        85\n",
      "\n",
      "    accuracy                           0.98      2405\n",
      "   macro avg       0.94      0.80      0.86      2405\n",
      "weighted avg       0.98      0.98      0.98      2405\n",
      "\n",
      "[[2314    6]\n",
      " [  33   52]]\n",
      "Area Under Curve: 0.8045892494929007\n"
     ]
    }
   ],
   "source": [
    "# Random Forest Classifier\n",
    "\n",
    "#rf = RandomForestClassifier(n_estimators=10, random_state=0)\n",
    "rf = RandomForestClassifier(random_state=0)\n",
    "rf.fit(X_train_transformed, y_train)\n",
    "y_pred = rf.predict(X_test_transformed)\n",
    "target_names = ['class 0', 'class 1']\n",
    "print(classification_report(y_test, y_pred, target_names=target_names))\n",
    "print(confusion_matrix(y_test, y_pred))\n",
    "print(f'Area Under Curve: {roc_auc_score(y_test, y_pred)}')\n",
    "# print(\"Accuracy: %5.4f\" % (cross_val_score(rf, X, y, cv=10).mean()))\n",
    "# rf"
   ]
  },
  {
   "cell_type": "code",
   "execution_count": null,
   "id": "54b73a03",
   "metadata": {},
   "outputs": [
    {
     "name": "stdout",
     "output_type": "stream",
     "text": [
      "              precision    recall  f1-score   support\n",
      "\n",
      "     class 0       0.98      0.99      0.99      2320\n",
      "     class 1       0.68      0.38      0.48        85\n",
      "\n",
      "    accuracy                           0.97      2405\n",
      "   macro avg       0.83      0.69      0.74      2405\n",
      "weighted avg       0.97      0.97      0.97      2405\n",
      "\n",
      "[[2305   15]\n",
      " [  53   32]]\n",
      "Area Under Curve: 0.6850025354969574\n"
     ]
    }
   ],
   "source": [
    "# Adaboost Classifier\n",
    "\n",
    "# ada = AdaBoostClassifier(n_estimators=100, random_state=0)\n",
    "ada = AdaBoostClassifier(random_state=0)\n",
    "ada.fit(X_train_transformed, y_train)\n",
    "y_pred = ada.predict(X_test_transformed)\n",
    "target_names = ['class 0', 'class 1']\n",
    "print(classification_report(y_test, y_pred, target_names=target_names))\n",
    "print(confusion_matrix(y_test, y_pred))\n",
    "print(f'Area Under Curve: {roc_auc_score(y_test, y_pred)}')\n",
    "# print(\"Accuracy: %5.4f\" % (cross_val_score(ada, X, y, cv=10).mean()))\n",
    "# ada"
   ]
  },
  {
   "cell_type": "code",
   "execution_count": null,
   "id": "09a0af56",
   "metadata": {},
   "outputs": [
    {
     "name": "stdout",
     "output_type": "stream",
     "text": [
      "              precision    recall  f1-score   support\n",
      "\n",
      "     class 0       0.99      1.00      0.99      2320\n",
      "     class 1       0.90      0.66      0.76        85\n",
      "\n",
      "    accuracy                           0.99      2405\n",
      "   macro avg       0.95      0.83      0.88      2405\n",
      "weighted avg       0.98      0.99      0.98      2405\n",
      "\n",
      "[[2314    6]\n",
      " [  29   56]]\n",
      "Area Under Curve: 0.8281186612576065\n"
     ]
    }
   ],
   "source": [
    "# Gradient Boosting Classifier\n",
    "\n",
    "# gbm = GradientBoostingClassifier(n_estimators=100, learning_rate=1.0, max_depth=1, random_state=0)\n",
    "gbm = GradientBoostingClassifier(random_state=0)\n",
    "gbm.fit(X_train_transformed, y_train)\n",
    "y_pred = gbm.predict(X_test_transformed)\n",
    "target_names = ['class 0', 'class 1']\n",
    "print(classification_report(y_test, y_pred, target_names=target_names))\n",
    "print(confusion_matrix(y_test, y_pred))\n",
    "print(f'Area Under Curve: {roc_auc_score(y_test, y_pred)}')\n",
    "# print(\"Accuracy: %5.4f\" % (cross_val_score(gbm, X, y, cv=10).mean()))\n",
    "# gbm"
   ]
  },
  {
   "cell_type": "code",
   "execution_count": null,
   "id": "47700ed3",
   "metadata": {},
   "outputs": [
    {
     "name": "stdout",
     "output_type": "stream",
     "text": [
      "              precision    recall  f1-score   support\n",
      "\n",
      "     class 0       0.98      0.99      0.98      2320\n",
      "     class 1       0.61      0.48      0.54        85\n",
      "\n",
      "    accuracy                           0.97      2405\n",
      "   macro avg       0.80      0.74      0.76      2405\n",
      "weighted avg       0.97      0.97      0.97      2405\n",
      "\n",
      "[[2294   26]\n",
      " [  44   41]]\n",
      "Area Under Curve: 0.7355730223123732\n"
     ]
    }
   ],
   "source": [
    "# K-nearest neighbors classifier\n",
    "\n",
    "from sklearn.neighbors import KNeighborsClassifier\n",
    "knn = KNeighborsClassifier(n_neighbors=1)\n",
    "knn.fit(X_train_transformed, y_train)\n",
    "y_pred = knn.predict(X_test_transformed)\n",
    "target_names = ['class 0', 'class 1']\n",
    "print(classification_report(y_test, y_pred, target_names=target_names))\n",
    "print(confusion_matrix(y_test, y_pred))\n",
    "print(f'Area Under Curve: {roc_auc_score(y_test, y_pred)}')"
   ]
  },
  {
   "cell_type": "code",
   "execution_count": null,
   "id": "563c1da0",
   "metadata": {},
   "outputs": [
    {
     "name": "stdout",
     "output_type": "stream",
     "text": [
      "              precision    recall  f1-score   support\n",
      "\n",
      "     class 0       0.99      0.83      0.90      2320\n",
      "     class 1       0.14      0.78      0.24        85\n",
      "\n",
      "    accuracy                           0.83      2405\n",
      "   macro avg       0.57      0.80      0.57      2405\n",
      "weighted avg       0.96      0.83      0.88      2405\n",
      "\n",
      "[[1920  400]\n",
      " [  19   66]]\n",
      "Area Under Curve: 0.8020283975659228\n"
     ]
    }
   ],
   "source": [
    "# Weighted Logistic Regression Classifier\n",
    "\n",
    "# logreg = LogisticRegression(C=1e5, random_state=0)\n",
    "logreg_w = LogisticRegression(class_weight='balanced', random_state=0)\n",
    "logreg_w.fit(X_train_transformed, y_train)\n",
    "y_pred = logreg_w.predict(X_test_transformed)\n",
    "target_names = ['class 0', 'class 1']\n",
    "print(classification_report(y_test, y_pred, target_names=target_names))\n",
    "print(confusion_matrix(y_test, y_pred))\n",
    "print(f'Area Under Curve: {roc_auc_score(y_test, y_pred)}')"
   ]
  },
  {
   "cell_type": "code",
   "execution_count": null,
   "id": "714aa407",
   "metadata": {
    "scrolled": true
   },
   "outputs": [
    {
     "name": "stdout",
     "output_type": "stream",
     "text": [
      "              precision    recall  f1-score   support\n",
      "\n",
      "     class 0       0.99      1.00      0.99      2320\n",
      "     class 1       0.90      0.67      0.77        85\n",
      "\n",
      "    accuracy                           0.99      2405\n",
      "   macro avg       0.95      0.83      0.88      2405\n",
      "weighted avg       0.99      0.99      0.98      2405\n",
      "\n",
      "[[2314    6]\n",
      " [  28   57]]\n",
      "Area Under Curve: 0.8340010141987828\n"
     ]
    }
   ],
   "source": [
    "# XGBoost\n",
    "from xgboost import XGBClassifier\n",
    "\n",
    "# evaluate the model\n",
    "xgb = XGBClassifier()\n",
    "xgb.fit(X_train_transformed, y_train)\n",
    "y_pred = xgb.predict(X_test_transformed)\n",
    "target_names = ['class 0', 'class 1']\n",
    "print(classification_report(y_test, y_pred, target_names=target_names))\n",
    "print(confusion_matrix(y_test, y_pred))\n",
    "print(f'Area Under Curve: {roc_auc_score(y_test, y_pred)}')"
   ]
  },
  {
   "cell_type": "code",
   "execution_count": null,
   "id": "1901b4dc",
   "metadata": {},
   "outputs": [
    {
     "name": "stdout",
     "output_type": "stream",
     "text": [
      "              precision    recall  f1-score   support\n",
      "\n",
      "     class 0       0.99      1.00      0.99      2320\n",
      "     class 1       0.90      0.67      0.77        85\n",
      "\n",
      "    accuracy                           0.99      2405\n",
      "   macro avg       0.95      0.83      0.88      2405\n",
      "weighted avg       0.99      0.99      0.98      2405\n",
      "\n",
      "[[2314    6]\n",
      " [  28   57]]\n",
      "Area Under Curve: 0.8340010141987828\n"
     ]
    }
   ],
   "source": [
    "# XGBoost weighted\n",
    "from xgboost import XGBClassifier\n",
    "\n",
    "# evaluate the model\n",
    "xgb2 = XGBClassifier(scale_pos_weight=1)\n",
    "xgb2.fit(X_train_transformed, y_train)\n",
    "y_pred = xgb2.predict(X_test_transformed)\n",
    "target_names = ['class 0', 'class 1']\n",
    "print(classification_report(y_test, y_pred, target_names=target_names))\n",
    "print(confusion_matrix(y_test, y_pred))\n",
    "print(f'Area Under Curve: {roc_auc_score(y_test, y_pred)}')"
   ]
  },
  {
   "cell_type": "code",
   "execution_count": null,
   "id": "13ece6fc",
   "metadata": {},
   "outputs": [
    {
     "name": "stdout",
     "output_type": "stream",
     "text": [
      "              precision    recall  f1-score   support\n",
      "\n",
      "     class 0       0.99      1.00      0.99      2320\n",
      "     class 1       0.93      0.64      0.76        85\n",
      "\n",
      "    accuracy                           0.99      2405\n",
      "   macro avg       0.96      0.82      0.87      2405\n",
      "weighted avg       0.98      0.99      0.98      2405\n",
      "\n",
      "[[2316    4]\n",
      " [  31   54]]\n",
      "Area Under Curve: 0.8167849898580122\n"
     ]
    }
   ],
   "source": [
    "# LightGBM\n",
    "from lightgbm import LGBMClassifier\n",
    "lgbm = LGBMClassifier()\n",
    "lgbm.fit(X_train_transformed, y_train)\n",
    "y_pred = lgbm.predict(X_test_transformed)\n",
    "target_names = ['class 0', 'class 1']\n",
    "print(classification_report(y_test, y_pred, target_names=target_names))\n",
    "print(confusion_matrix(y_test, y_pred))\n",
    "print(f'Area Under Curve: {roc_auc_score(y_test, y_pred)}')"
   ]
  },
  {
   "cell_type": "code",
   "execution_count": null,
   "id": "e49942c9",
   "metadata": {
    "scrolled": false
   },
   "outputs": [],
   "source": [
    "#CatBoost\n",
    "from catboost import CatBoostClassifier\n",
    "cat = CatBoostClassifier()\n",
    "cat.fit(X_train_transformed, y_train)"
   ]
  },
  {
   "cell_type": "code",
   "execution_count": null,
   "id": "6a394e83",
   "metadata": {
    "scrolled": true
   },
   "outputs": [
    {
     "name": "stdout",
     "output_type": "stream",
     "text": [
      "              precision    recall  f1-score   support\n",
      "\n",
      "     class 0       0.99      1.00      0.99      2320\n",
      "     class 1       0.90      0.67      0.77        85\n",
      "\n",
      "    accuracy                           0.99      2405\n",
      "   macro avg       0.95      0.83      0.88      2405\n",
      "weighted avg       0.99      0.99      0.98      2405\n",
      "\n",
      "[[2314    6]\n",
      " [  28   57]]\n",
      "Area Under Curve: 0.8340010141987828\n"
     ]
    }
   ],
   "source": [
    "y_pred = cat.predict(X_test_transformed)\n",
    "target_names = ['class 0', 'class 1']\n",
    "print(classification_report(y_test, y_pred, target_names=target_names))\n",
    "print(confusion_matrix(y_test, y_pred))\n",
    "print(f'Area Under Curve: {roc_auc_score(y_test, y_pred)}')"
   ]
  },
  {
   "cell_type": "markdown",
   "id": "9dfa381a",
   "metadata": {},
   "source": [
    "### Classifier performance comparison\n",
    " - Decision tree, random forest and weighted logistic regression classifiers performed the same with ROC-ACU around 0.8.\n",
    " - Gradient boosted ensembles performed better with XGBoost & CatBoost tied at ROC-AUC of 0.834\n"
   ]
  },
  {
   "cell_type": "markdown",
   "id": "1cc72157",
   "metadata": {},
   "source": [
    "### Hyperparameter Tuning"
   ]
  },
  {
   "cell_type": "code",
   "execution_count": null,
   "id": "830aab4a",
   "metadata": {},
   "outputs": [],
   "source": [
    "def modelfit(alg, dtrain, predictors,useTrainCV=True, cv_folds=5, early_stopping_rounds=50):\n",
    "    \n",
    "    if useTrainCV:\n",
    "        xgb_param = alg.get_xgb_params()\n",
    "        xgtrain = xgb.DMatrix(dtrain[predictors].values, label=dtrain[target].values)\n",
    "        cvresult = xgb.cv(xgb_param, xgtrain, num_boost_round=alg.get_params()['n_estimators'], nfold=cv_folds,\n",
    "            metrics='auc', early_stopping_rounds=early_stopping_rounds, show_progress=False)\n",
    "        alg.set_params(n_estimators=cvresult.shape[0])\n",
    "    \n",
    "    #Fit the algorithm on the data\n",
    "    alg.fit(dtrain[predictors], dtrain['Disbursed'],eval_metric='auc')\n",
    "        \n",
    "    #Predict training set:\n",
    "    dtrain_predictions = alg.predict(dtrain[predictors])\n",
    "    dtrain_predprob = alg.predict_proba(dtrain[predictors])[:,1]\n",
    "        \n",
    "    #Print model report:\n",
    "    print(\"\\nModel Report\")\n",
    "    print(\"Accuracy : %.4g\" % metrics.accuracy_score(dtrain['Disbursed'].values, dtrain_predictions))\n",
    "    print (\"AUC Score (Train): %f\" % metrics.roc_auc_score(dtrain['Disbursed'], dtrain_predprob))\n",
    "                    \n",
    "    feat_imp = pd.Series(alg.booster().get_fscore()).sort_values(ascending=False)\n",
    "    feat_imp.plot(kind='bar', title='Feature Importances')\n",
    "    plt.ylabel('Feature Importance Score')"
   ]
  },
  {
   "cell_type": "code",
   "execution_count": null,
   "id": "9d4e2800",
   "metadata": {},
   "outputs": [
    {
     "name": "stdout",
     "output_type": "stream",
     "text": [
      "(7212, 5) (7212, 5) (7212,)\n",
      "[[   0 6958]\n",
      " [   1  254]]\n"
     ]
    },
    {
     "data": {
      "text/plain": [
       "ATK       0\n",
       "PTK       0\n",
       "RPM       0\n",
       "Torque    0\n",
       "Wear      0\n",
       "dtype: int64"
      ]
     },
     "execution_count": 42,
     "metadata": {},
     "output_type": "execute_result"
    }
   ],
   "source": [
    "import numpy as np\n",
    "train = pd.DataFrame(X_train_transformed, columns=num_features)\n",
    "#train['target'] = y_train\n",
    "print(train.shape, X_train_transformed.shape, y_train.shape)\n",
    "unique, counts = np.unique(y_train, return_counts=True)\n",
    "print(np.asarray((unique, counts)).T)\n",
    "train.isnull().sum()"
   ]
  },
  {
   "cell_type": "code",
   "execution_count": null,
   "id": "5fabe2fa",
   "metadata": {},
   "outputs": [],
   "source": [
    "\n",
    "predictors = num_features\n",
    "xgb1 = XGBClassifier(\n",
    " learning_rate =0.1,\n",
    " n_estimators=1000,\n",
    " max_depth=5,\n",
    " min_child_weight=1,\n",
    " gamma=0,\n",
    " subsample=0.8,\n",
    " colsample_bytree=0.8,\n",
    " objective= 'binary:logistic',\n",
    " nthread=4,\n",
    " scale_pos_weight=1,\n",
    " seed=27)\n",
    "modelfit(xgb1, train, predictors)"
   ]
  },
  {
   "cell_type": "code",
   "execution_count": null,
   "id": "4c84dc5e",
   "metadata": {},
   "outputs": [],
   "source": [
    "# grid search positive class weights with xgboost for imbalance classification\n",
    "from numpy import mean\n",
    "from sklearn.datasets import make_classification\n",
    "from sklearn.model_selection import GridSearchCV\n",
    "from sklearn.model_selection import RepeatedStratifiedKFold\n",
    "from xgboost import XGBClassifier\n",
    "\n",
    "# define model\n",
    "model = XGBClassifier()\n",
    "# define grid\n",
    "weights = [1, 10, 25, 50, 75, 99, 100, 1000]\n",
    "param_grid = dict(scale_pos_weight=weights)\n",
    "# define evaluation procedure\n",
    "cv = RepeatedStratifiedKFold(n_splits=10, n_repeats=3, random_state=1)\n",
    "# define grid search\n",
    "grid = GridSearchCV(estimator=model, param_grid=param_grid, n_jobs=-1, cv=cv, scoring='roc_auc')\n",
    "# execute the grid search\n",
    "grid_result = grid.fit(X, y)\n",
    "# report the best configuration\n",
    "print(\"Best: %f using %s\" % (grid_result.best_score_, grid_result.best_params_))\n",
    "# report all configurations\n",
    "means = grid_result.cv_results_['mean_test_score']\n",
    "stds = grid_result.cv_results_['std_test_score']\n",
    "params = grid_result.cv_results_['params']\n",
    "for mean, stdev, param in zip(means, stds, params):\n",
    "    print(\"%f (%f) with: %r\" % (mean, stdev, param))"
   ]
  }
 ],
 "metadata": {
  "kernelspec": {
   "display_name": "Python 3 (ipykernel)",
   "language": "python",
   "name": "python3"
  },
  "language_info": {
   "codemirror_mode": {
    "name": "ipython",
    "version": 3
   },
   "file_extension": ".py",
   "mimetype": "text/x-python",
   "name": "python",
   "nbconvert_exporter": "python",
   "pygments_lexer": "ipython3",
   "version": "3.9.13"
  }
 },
 "nbformat": 4,
 "nbformat_minor": 5
}
